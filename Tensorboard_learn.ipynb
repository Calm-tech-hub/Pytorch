{
 "cells": [
  {
   "cell_type": "code",
   "execution_count": 13,
   "metadata": {},
   "outputs": [
    {
     "name": "stdout",
     "output_type": "stream",
     "text": [
      "hello\n"
     ]
    }
   ],
   "source": [
    "print(\"hello\")"
   ]
  },
  {
   "cell_type": "code",
   "execution_count": 14,
   "metadata": {},
   "outputs": [
    {
     "name": "stdout",
     "output_type": "stream",
     "text": [
      "torch: 2.0.0+cu118\n",
      "torchvision: 0.15.1+cu118\n",
      "GPU: True\n",
      "0\n",
      "11.8\n",
      "8700\n"
     ]
    }
   ],
   "source": [
    "import torch\n",
    "import torchvision\n",
    "print(\"torch:\",torch.__version__)\n",
    "print(\"torchvision:\",torchvision.__version__)\n",
    "print('GPU:',torch.cuda.is_available())#cuda是否可用\n",
    "print(torch.cuda.current_device())#返回cuda编号\n",
    "print(torch.version.cuda)\n",
    "print(torch.backends.cudnn.version())"
   ]
  },
  {
   "cell_type": "code",
   "execution_count": 15,
   "metadata": {},
   "outputs": [],
   "source": [
    "from torch.utils.tensorboard import SummaryWriter\n",
    "from PIL import Image\n",
    "import numpy as np\n"
   ]
  },
  {
   "cell_type": "code",
   "execution_count": 17,
   "metadata": {},
   "outputs": [],
   "source": [
    "writer = SummaryWriter(\"logs\")\n",
    "\n",
    "#y = x\n",
    "for i in range(100):\n",
    "    writer.add_scalar(\"y=x\",i,i)\n",
    "    \n",
    "writer.close()"
   ]
  },
  {
   "cell_type": "code",
   "execution_count": 23,
   "metadata": {},
   "outputs": [
    {
     "name": "stdout",
     "output_type": "stream",
     "text": [
      "<class 'PIL.JpegImagePlugin.JpegImageFile'>\n"
     ]
    }
   ],
   "source": [
    "image_path = r\"data\\train\\bees_image\\16838648_415acd9e3f.jpg\"\n",
    "#writer.add_scalar 中传入的图片可以是torch.tensor也可以是numpy.array\n",
    "img = Image.open(image_path)\n",
    "print(type(img))"
   ]
  },
  {
   "cell_type": "code",
   "execution_count": 24,
   "metadata": {},
   "outputs": [
    {
     "name": "stdout",
     "output_type": "stream",
     "text": [
      "<class 'numpy.ndarray'>\n",
      "(450, 500, 3)\n"
     ]
    }
   ],
   "source": [
    "#利用opencv读取图片，获得numpy型图片数据\n",
    "img_array = np.array(img)#转化为numpy类型\n",
    "print(type(img_array))\n",
    "\n",
    "print(img_array.shape)\n",
    "\"\"\"\n",
    "Add image data to summary.\n",
    "        Note that this requires the ``pillow`` package.\n",
    "\n",
    "        Args:\n",
    "            tag (str): Data identifier 名称\n",
    "            img_tensor (torch.Tensor, numpy.ndarray, or string/blobname): Image data 图片数据tensor或者numpy.array\n",
    "            global_step (int): Global step value to record\n",
    "            walltime (float): Optional override default walltime (time.time())\n",
    "              seconds after epoch of event\n",
    "            dataformats (str): Image data format specification of the form\n",
    "              CHW, HWC, HW, WH, etc. C:三通道,H:高度,W:宽度\n",
    "        Shape:\n",
    "            img_tensor: Default is :math:`(3, H, W)`. You can use ``torchvision.utils.make_grid()`` to\n",
    "            convert a batch of tensor into 3xHxW format or call ``add_images`` and let us do the job.\n",
    "            Tensor with :math:`(1, H, W)`, :math:`(H, W)`, :math:`(H, W, 3)` is also suitable as long as\n",
    "            corresponding ``dataformats`` argument is passed, e.g. ``CHW``, ``HWC``, ``HW``.\n",
    "\n",
    "        Examples::\n",
    "\n",
    "            from torch.utils.tensorboard import SummaryWriter\n",
    "            import numpy as np\n",
    "            img = np.zeros((3, 100, 100))\n",
    "            img[0] = np.arange(0, 10000).reshape(100, 100) / 10000\n",
    "            img[1] = 1 - np.arange(0, 10000).reshape(100, 100) / 10000\n",
    "\n",
    "            img_HWC = np.zeros((100, 100, 3))\n",
    "            img_HWC[:, :, 0] = np.arange(0, 10000).reshape(100, 100) / 10000\n",
    "            img_HWC[:, :, 1] = 1 - np.arange(0, 10000).reshape(100, 100) / 10000\n",
    "\n",
    "            writer = SummaryWriter()\n",
    "            writer.add_image('my_image', img, 0)\n",
    "\n",
    "            # If you have non-default dimension setting, set the dataformats argument.\n",
    "            writer.add_image('my_image_HWC', img_HWC, 0, dataformats='HWC')\n",
    "            writer.close()\n",
    "\n",
    "        Expected result:\n",
    "\n",
    "        .. image:: _static/img/tensorboard/add_image.png\n",
    "           :scale: 50 %\n",
    "\n",
    "\"\"\"\n",
    "writer.add_image(\"test\",img_array,2, dataformats='HWC')\n",
    "for j in range(100):\n",
    "    writer.add_scalar(\"y=x\",j,j)\n",
    "\n",
    "writer.close()\n",
    "#tensorboard显示的就是log里面包含的文件\n",
    "\n"
   ]
  }
 ],
 "metadata": {
  "kernelspec": {
   "display_name": "base",
   "language": "python",
   "name": "python3"
  },
  "language_info": {
   "codemirror_mode": {
    "name": "ipython",
    "version": 3
   },
   "file_extension": ".py",
   "mimetype": "text/x-python",
   "name": "python",
   "nbconvert_exporter": "python",
   "pygments_lexer": "ipython3",
   "version": "3.9.13"
  }
 },
 "nbformat": 4,
 "nbformat_minor": 2
}

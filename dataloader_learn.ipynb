{
 "cells": [
  {
   "cell_type": "code",
   "execution_count": 18,
   "metadata": {},
   "outputs": [
    {
     "data": {
      "text/plain": [
       "' \\ndataloader的参数\\n1、dataset(必须要设置，没有初始值)\\n2、batch_size 每批次数量\\n3、num_workers = 0\\n4、drop_last(bool类型),最后把没法整除剩下来的那一部分是否舍弃\\n'"
      ]
     },
     "execution_count": 18,
     "metadata": {},
     "output_type": "execute_result"
    }
   ],
   "source": [
    "''' \n",
    "dataloader的参数\n",
    "1、dataset(必须要设置，没有初始值)\n",
    "2、batch_size 每批次数量\n",
    "3、num_workers = 0\n",
    "4、drop_last(bool类型),最后把没法整除剩下来的那一部分是否舍弃\n",
    "'''"
   ]
  },
  {
   "cell_type": "code",
   "execution_count": 19,
   "metadata": {},
   "outputs": [],
   "source": [
    "import torchvision\n",
    "from torch.utils.data import DataLoader\n",
    "from torch.utils.tensorboard import SummaryWriter"
   ]
  },
  {
   "cell_type": "code",
   "execution_count": 20,
   "metadata": {},
   "outputs": [
    {
     "name": "stdout",
     "output_type": "stream",
     "text": [
      "Files already downloaded and verified\n"
     ]
    }
   ],
   "source": [
    "#准备的测试数据集\n",
    "test_dataset = torchvision.datasets.CIFAR10(root = \"./dataset\",train = False,transform = torchvision.transforms.ToTensor(),download = True)\n",
    "\n",
    "test_loader = DataLoader(dataset = test_dataset,batch_size = 64,shuffle = True,num_workers = 0,drop_last = True)\n",
    "#将整个dataset按照每批batch_size个来平均分成若干份，每次取出一个里面有batch_size个数据\n"
   ]
  },
  {
   "cell_type": "code",
   "execution_count": 21,
   "metadata": {},
   "outputs": [
    {
     "name": "stdout",
     "output_type": "stream",
     "text": [
      "torch.Size([3, 32, 32])\n",
      "3\n"
     ]
    }
   ],
   "source": [
    "#测试数据集中第一张图片及target\n",
    "img,target = test_dataset[0]\n",
    "print(img.shape)\n",
    "print(target)"
   ]
  },
  {
   "cell_type": "code",
   "execution_count": 22,
   "metadata": {},
   "outputs": [
    {
     "data": {
      "text/plain": [
       "'\\ndataset:getitem()->return img,target\\ndataloader(batch_size = 4):\\nimg0,target0 = dataset[0]\\nimg1,target1 = dataset[1]\\nimg2,target2 = dataset[2]\\nimg3,target3 = dataset[3]\\n将以上四个打包成：\\nimgs,targets\\n'"
      ]
     },
     "execution_count": 22,
     "metadata": {},
     "output_type": "execute_result"
    }
   ],
   "source": [
    "'''\n",
    "dataset:getitem()->return img,target\n",
    "dataloader(batch_size = 4):\n",
    "img0,target0 = dataset[0]\n",
    "img1,target1 = dataset[1]\n",
    "img2,target2 = dataset[2]\n",
    "img3,target3 = dataset[3]\n",
    "将以上四个打包成：\n",
    "imgs,targets\n",
    "'''"
   ]
  },
  {
   "cell_type": "code",
   "execution_count": 23,
   "metadata": {},
   "outputs": [],
   "source": [
    "writer = SummaryWriter(\"dataloader\")\n",
    "\n",
    "step = 0\n",
    "for data in test_loader:\n",
    "    imgs,targets = data\n",
    "    # print(imgs.shape)\n",
    "    # print(targets)\n",
    "    writer.add_images(\"test_data\",imgs,step)\n",
    "    step+=1\n",
    "\n",
    "writer.close()\n",
    "\n"
   ]
  },
  {
   "cell_type": "code",
   "execution_count": null,
   "metadata": {},
   "outputs": [],
   "source": []
  }
 ],
 "metadata": {
  "kernelspec": {
   "display_name": "base",
   "language": "python",
   "name": "python3"
  },
  "language_info": {
   "codemirror_mode": {
    "name": "ipython",
    "version": 3
   },
   "file_extension": ".py",
   "mimetype": "text/x-python",
   "name": "python",
   "nbconvert_exporter": "python",
   "pygments_lexer": "ipython3",
   "version": "3.9.13"
  }
 },
 "nbformat": 4,
 "nbformat_minor": 2
}

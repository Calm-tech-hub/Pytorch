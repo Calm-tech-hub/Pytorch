{
 "cells": [
  {
   "cell_type": "code",
   "execution_count": 20,
   "metadata": {},
   "outputs": [],
   "source": [
    "import torch\n",
    "import torchvision\n",
    "from torch.utils.tensorboard import SummaryWriter\n",
    "import torch.nn as nn\n",
    "from torch.utils.data import DataLoader"
   ]
  },
  {
   "cell_type": "code",
   "execution_count": 21,
   "metadata": {},
   "outputs": [
    {
     "name": "stdout",
     "output_type": "stream",
     "text": [
      "Files already downloaded and verified\n"
     ]
    }
   ],
   "source": [
    "test_dataset = torchvision.datasets.CIFAR10(root = \"./dataset\",train = False,transform = torchvision.transforms.ToTensor(),download = True)\n",
    "\n",
    "dataloader = DataLoader(test_dataset,batch_size = 64)"
   ]
  },
  {
   "cell_type": "code",
   "execution_count": 22,
   "metadata": {},
   "outputs": [
    {
     "name": "stdout",
     "output_type": "stream",
     "text": [
      "tensor(2.3347, grad_fn=<NllLossBackward0>)\n"
     ]
    }
   ],
   "source": [
    "\n",
    "class Calm(nn.Module):\n",
    "    def __init__(self):\n",
    "        super(Calm,self).__init__()\n",
    "        self.model = nn.Sequential(\n",
    "            nn.Conv2d(3,32,5,padding = 2),\n",
    "            nn.MaxPool2d(2),\n",
    "            nn.Conv2d(32,32,5,padding = 2),\n",
    "            nn.MaxPool2d(2),\n",
    "            nn.Conv2d(32,64,5,padding = 2),\n",
    "            nn.MaxPool2d(2),\n",
    "            nn.Flatten(),\n",
    "            nn.Linear(64*16,64),\n",
    "            nn.Linear(64,10)\n",
    "\n",
    "        )\n",
    "\n",
    "    def forward(self,input):\n",
    "        output = self.model(input)\n",
    "        return output\n",
    "\n",
    "calm = Calm()\n",
    "loss = nn.CrossEntropyLoss()\n",
    "\n",
    "Result = 0\n",
    "for data in dataloader:\n",
    "    imgs,targets = data\n",
    "    output = calm(imgs)\n",
    "    result_loss = loss(output,targets)\n",
    "    Result += result_loss\n",
    "    \n",
    "print(result_loss)\n",
    "\n",
    "\n",
    "    "
   ]
  },
  {
   "cell_type": "code",
   "execution_count": 23,
   "metadata": {},
   "outputs": [
    {
     "name": "stdout",
     "output_type": "stream",
     "text": [
      "tensor(360.2646, grad_fn=<AddBackward0>)\n",
      "tensor(354.7454, grad_fn=<AddBackward0>)\n",
      "tensor(333.6360, grad_fn=<AddBackward0>)\n",
      "tensor(315.1509, grad_fn=<AddBackward0>)\n",
      "tensor(305.4907, grad_fn=<AddBackward0>)\n",
      "tensor(295.1392, grad_fn=<AddBackward0>)\n",
      "tensor(286.7337, grad_fn=<AddBackward0>)\n",
      "tensor(279.1096, grad_fn=<AddBackward0>)\n",
      "tensor(272.2039, grad_fn=<AddBackward0>)\n",
      "tensor(266.0991, grad_fn=<AddBackward0>)\n",
      "[tensor(360.2646, grad_fn=<AddBackward0>), tensor(354.7454, grad_fn=<AddBackward0>), tensor(333.6360, grad_fn=<AddBackward0>), tensor(315.1509, grad_fn=<AddBackward0>), tensor(305.4907, grad_fn=<AddBackward0>), tensor(295.1392, grad_fn=<AddBackward0>), tensor(286.7337, grad_fn=<AddBackward0>), tensor(279.1096, grad_fn=<AddBackward0>), tensor(272.2039, grad_fn=<AddBackward0>), tensor(266.0991, grad_fn=<AddBackward0>)]\n"
     ]
    }
   ],
   "source": [
    "\n",
    "optimizer = torch.optim.SGD(calm.parameters(),lr = 0.01)\n",
    "\n",
    "writer = SummaryWriter(\"loss\")\n",
    "\n",
    "Result_list = []\n",
    "for epoch in range(10):\n",
    "    Result = 0\n",
    "    for data in  dataloader:\n",
    "        imgs,targets = data\n",
    "        output = calm(imgs)\n",
    "        result_loss = loss(output,targets)\n",
    "        optimizer.zero_grad()\n",
    "        result_loss.backward()\n",
    "        optimizer.step()\n",
    "        Result += result_loss\n",
    "    print(Result)\n",
    "    Result_list.append(Result)\n",
    "    writer.add_scalar(\"Loss\",Result,epoch)\n",
    "    writer.close()\n",
    "\n",
    "print(Result_list)\n",
    "\n",
    "\n",
    "\n"
   ]
  }
 ],
 "metadata": {
  "kernelspec": {
   "display_name": "base",
   "language": "python",
   "name": "python3"
  },
  "language_info": {
   "codemirror_mode": {
    "name": "ipython",
    "version": 3
   },
   "file_extension": ".py",
   "mimetype": "text/x-python",
   "name": "python",
   "nbconvert_exporter": "python",
   "pygments_lexer": "ipython3",
   "version": "3.9.13"
  }
 },
 "nbformat": 4,
 "nbformat_minor": 2
}

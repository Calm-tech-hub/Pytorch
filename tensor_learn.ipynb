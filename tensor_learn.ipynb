{
 "cells": [
  {
   "cell_type": "code",
   "execution_count": 3,
   "metadata": {},
   "outputs": [
    {
     "name": "stdout",
     "output_type": "stream",
     "text": [
      "hello\n"
     ]
    }
   ],
   "source": [
    "print('hello')"
   ]
  },
  {
   "cell_type": "markdown",
   "metadata": {},
   "source": [
    "# 一、导入库"
   ]
  },
  {
   "cell_type": "code",
   "execution_count": 4,
   "metadata": {},
   "outputs": [],
   "source": [
    "import torch\n",
    "import torch.nn as nn\n",
    "import torch.nn.functional as F\n",
    "import numpy as np"
   ]
  },
  {
   "cell_type": "markdown",
   "metadata": {},
   "source": [
    "# 二、张量"
   ]
  },
  {
   "cell_type": "code",
   "execution_count": 5,
   "metadata": {},
   "outputs": [
    {
     "data": {
      "text/plain": [
       "'2.0.0+cu118'"
      ]
     },
     "execution_count": 5,
     "metadata": {},
     "output_type": "execute_result"
    }
   ],
   "source": [
    "torch.__version__"
   ]
  },
  {
   "cell_type": "markdown",
   "metadata": {},
   "source": [
    "## 2.1张量函数创建方法"
   ]
  },
  {
   "cell_type": "code",
   "execution_count": 6,
   "metadata": {},
   "outputs": [
    {
     "data": {
      "text/plain": [
       "tensor([1, 2])"
      ]
     },
     "execution_count": 6,
     "metadata": {},
     "output_type": "execute_result"
    }
   ],
   "source": [
    "#通过列表创建张量\n",
    "t = torch.tensor([1,2])\n",
    "t\n"
   ]
  },
  {
   "cell_type": "code",
   "execution_count": 7,
   "metadata": {},
   "outputs": [
    {
     "data": {
      "text/plain": [
       "tensor([1, 2])"
      ]
     },
     "execution_count": 7,
     "metadata": {},
     "output_type": "execute_result"
    }
   ],
   "source": [
    "#通过元组创建张量\n",
    "torch.tensor((1,2))"
   ]
  },
  {
   "cell_type": "code",
   "execution_count": 8,
   "metadata": {},
   "outputs": [
    {
     "data": {
      "text/plain": [
       "array([1, 2])"
      ]
     },
     "execution_count": 8,
     "metadata": {},
     "output_type": "execute_result"
    }
   ],
   "source": [
    "#通过数组创建张量\n",
    "#numpy与tensor的转换\n",
    "a = np.array((1,2))\n",
    "a"
   ]
  },
  {
   "cell_type": "code",
   "execution_count": 9,
   "metadata": {},
   "outputs": [
    {
     "data": {
      "text/plain": [
       "tensor([1, 2], dtype=torch.int32)"
      ]
     },
     "execution_count": 9,
     "metadata": {},
     "output_type": "execute_result"
    }
   ],
   "source": [
    "t1 = torch.tensor(a)\n",
    "t1\n",
    "#dtype:通过返回结果，我们可以看出张量也有dtype类型"
   ]
  },
  {
   "cell_type": "code",
   "execution_count": 10,
   "metadata": {},
   "outputs": [
    {
     "name": "stdout",
     "output_type": "stream",
     "text": [
      "<class 'torch.Tensor'>\n",
      "<class 'torch.Tensor'>\n"
     ]
    }
   ],
   "source": [
    "print(type(t))\n",
    "print(type(t1))"
   ]
  },
  {
   "cell_type": "code",
   "execution_count": 11,
   "metadata": {},
   "outputs": [
    {
     "name": "stdout",
     "output_type": "stream",
     "text": [
      "int32\n",
      "torch.int64\n",
      "torch.int32\n"
     ]
    }
   ],
   "source": [
    "print(a.dtype)\n",
    "print(t.dtype)\n",
    "print(t1.dtype) \n",
    "#从这里的输出结果我们可以看出：整数型数组默认创建int32(整型)类型，而张量则默认创建int64(长整型)类型\n"
   ]
  },
  {
   "cell_type": "code",
   "execution_count": 12,
   "metadata": {},
   "outputs": [
    {
     "name": "stdout",
     "output_type": "stream",
     "text": [
      "float64\n",
      "torch.float64\n",
      "torch.float32\n"
     ]
    }
   ],
   "source": [
    "a = np.array([1.1,2.2])\n",
    "print(a.dtype)\n",
    "print(torch.tensor(a).dtype)#tensor继承array的数据类型\n",
    "print(torch.tensor([1.1,2.2]).dtype)\n",
    "#从输出结果可以看出：创建浮点型数组时，张量默认float32(单精度),而Array则是默认float64(双精度浮点型)"
   ]
  },
  {
   "cell_type": "code",
   "execution_count": 13,
   "metadata": {},
   "outputs": [
    {
     "data": {
      "text/plain": [
       "tensor([ True, False])"
      ]
     },
     "execution_count": 13,
     "metadata": {},
     "output_type": "execute_result"
    }
   ],
   "source": [
    "#布尔型张量\n",
    "t2 = torch.tensor([True,False])\n",
    "t2"
   ]
  },
  {
   "cell_type": "code",
   "execution_count": 14,
   "metadata": {},
   "outputs": [
    {
     "data": {
      "text/plain": [
       "tensor(1.+2.j)"
      ]
     },
     "execution_count": 14,
     "metadata": {},
     "output_type": "execute_result"
    }
   ],
   "source": [
    "#复数型张量\n",
    "a = torch.tensor(1+2j)\n",
    "a"
   ]
  },
  {
   "cell_type": "code",
   "execution_count": 15,
   "metadata": {},
   "outputs": [
    {
     "name": "stderr",
     "output_type": "stream",
     "text": [
      "C:\\Users\\86138\\AppData\\Local\\Temp\\ipykernel_18540\\928534527.py:2: DeprecationWarning: an integer is required (got type float).  Implicit conversion to integers using __int__ is deprecated, and may be removed in a future version of Python.\n",
      "  torch.tensor([1.1,2.7],dtype=torch.int16)\n"
     ]
    },
    {
     "data": {
      "text/plain": [
       "tensor([1, 2], dtype=torch.int16)"
      ]
     },
     "execution_count": 15,
     "metadata": {},
     "output_type": "execute_result"
    }
   ],
   "source": [
    "#通过dtype参数，在创建张量的过程中设置输出结果\n",
    "torch.tensor([1.1,2.7],dtype=torch.int16)"
   ]
  },
  {
   "cell_type": "code",
   "execution_count": 16,
   "metadata": {},
   "outputs": [
    {
     "name": "stdout",
     "output_type": "stream",
     "text": [
      "tensor([1, 2, 3], dtype=torch.int32)\n",
      "tensor([1, 2, 3], dtype=torch.int32)\n"
     ]
    }
   ],
   "source": [
    "#通过numpy数组\n",
    "a = np.array([1,2,3])\n",
    "x = torch.from_numpy(a)\n",
    "print(x)\n",
    "x1 = torch.tensor(a)\n",
    "print(x1)\n"
   ]
  },
  {
   "cell_type": "code",
   "execution_count": 17,
   "metadata": {},
   "outputs": [
    {
     "name": "stdout",
     "output_type": "stream",
     "text": [
      "tensor([1, 1, 1], dtype=torch.int32)\n",
      "tensor([0, 0, 0], dtype=torch.int32)\n"
     ]
    }
   ],
   "source": [
    "#通过已知张量\n",
    "x_ones = torch.ones_like(x1)\n",
    "print(x_ones)\n",
    "x_zeros = torch.zeros_like(x1)\n",
    "print(x_zeros)"
   ]
  },
  {
   "cell_type": "code",
   "execution_count": 18,
   "metadata": {},
   "outputs": [
    {
     "name": "stdout",
     "output_type": "stream",
     "text": [
      "tensor([[0.8932, 0.9191, 0.2619],\n",
      "        [0.9163, 0.1667, 0.6743]])\n",
      "tensor([[1., 1., 1.],\n",
      "        [1., 1., 1.]])\n",
      "tensor([[0., 0., 0.],\n",
      "        [0., 0., 0.]])\n"
     ]
    }
   ],
   "source": [
    "#已知形状定义张量，可以rand,ones,zeros\n",
    "shape=(2,3)\n",
    "rand_tensor = torch.rand(shape)\n",
    "print(rand_tensor)\n",
    "ones_tensor = torch.ones(shape)\n",
    "print(ones_tensor)\n",
    "zeros_tensor = torch.zeros(shape) \n",
    "print(zeros_tensor)"
   ]
  },
  {
   "cell_type": "code",
   "execution_count": 41,
   "metadata": {},
   "outputs": [
    {
     "name": "stdout",
     "output_type": "stream",
     "text": [
      "tensor([[0.6254, 0.9716],\n",
      "        [0.7490, 0.5306]])\n",
      "tensor([[0., 0.],\n",
      "        [0., 0.]])\n"
     ]
    }
   ],
   "source": [
    "shape = [2,2]\n",
    "rand_tensor_1 = torch.rand(shape)\n",
    "print(rand_tensor_1)\n",
    "zeros_tensor_1 = torch.zeros(2,2)\n",
    "print(zeros_tensor_1)"
   ]
  },
  {
   "cell_type": "code",
   "execution_count": 44,
   "metadata": {},
   "outputs": [
    {
     "name": "stdout",
     "output_type": "stream",
     "text": [
      "torch.float64\n"
     ]
    }
   ],
   "source": [
    "#补充：全局初始化数据类型\n",
    "torch.set_default_tensor_type(torch.DoubleTensor)\n",
    "print(torch.tensor([1.0,2.0]).dtype)"
   ]
  },
  {
   "cell_type": "markdown",
   "metadata": {},
   "source": [
    "## 2.2张量类型的转化"
   ]
  },
  {
   "cell_type": "code",
   "execution_count": 20,
   "metadata": {},
   "outputs": [
    {
     "name": "stdout",
     "output_type": "stream",
     "text": [
      "torch.float32\n",
      "tensor([1.0000, 2.2000])\n"
     ]
    }
   ],
   "source": [
    "'''张量类型的隐式转化\n",
    "和Numpy中的array相同,\n",
    "当张量各个元素属于不同类型时候，\n",
    "系统会自动进行隐式转化'''\n",
    "print(torch.tensor([1.1,2]).dtype)\n",
    "print(torch.tensor([True,2.2]))"
   ]
  },
  {
   "cell_type": "code",
   "execution_count": 21,
   "metadata": {},
   "outputs": [
    {
     "name": "stdout",
     "output_type": "stream",
     "text": [
      "tensor([1., 2.])\n",
      "tensor([1., 2.], dtype=torch.float64)\n",
      "tensor([1, 2], dtype=torch.int16)\n"
     ]
    }
   ],
   "source": [
    "'''\n",
    "可以用.float(),.int(),.double(),.short()进行直接转化\n",
    "后续操作中会经常将整数转化成浮点数\n",
    "'''\n",
    "print(t.float())\n",
    "print(t.double())\n",
    "print(t.short())"
   ]
  },
  {
   "cell_type": "markdown",
   "metadata": {},
   "source": [
    "## 2.3张量的维度与形变（标量->向量->矩阵->）"
   ]
  },
  {
   "cell_type": "code",
   "execution_count": 22,
   "metadata": {},
   "outputs": [],
   "source": [
    "# 张量是一组数的结构化表示，在张量中高维数组与Numpy中的Array类似"
   ]
  },
  {
   "cell_type": "markdown",
   "metadata": {},
   "source": [
    "### 2.3.1创建高维向量"
   ]
  },
  {
   "cell_type": "code",
   "execution_count": 23,
   "metadata": {},
   "outputs": [
    {
     "name": "stdout",
     "output_type": "stream",
     "text": [
      "1\n",
      "torch.Size([2])\n",
      "torch.Size([2])\n",
      "3\n",
      "2\n",
      "2\n"
     ]
    }
   ],
   "source": [
    "#用简单序列创建一维数组\n",
    "t1 = torch.tensor([1,2])\n",
    "#ndim查看张量维度\n",
    "print(t1.ndim)\n",
    "#使用shape查看形状\n",
    "print(t1.shape)#包含几个元素\n",
    "#使用size一样\n",
    "print(t1.size())\n",
    "#注：和numpy不同，Pytorch中size方法返回结果和shape属性结果一样\n",
    "\n",
    "#还有两个常用的\n",
    "#len 返回拥有几个(N-1)维元素\n",
    "print(len([1,2,3]))\n",
    "print(len(t1))\n",
    "#numel返回一共有几个数，最底层\n",
    "print(t1.numel())\n"
   ]
  },
  {
   "cell_type": "code",
   "execution_count": 24,
   "metadata": {},
   "outputs": [
    {
     "name": "stdout",
     "output_type": "stream",
     "text": [
      "2\n",
      "torch.Size([2, 2])\n",
      "torch.Size([2, 2])\n",
      "2\n",
      "2\n",
      "4\n",
      "4\n"
     ]
    }
   ],
   "source": [
    "#使用“序列”的“序列”创建二维数组\n",
    "t2 = torch.tensor([[1,2],[3,4]])\n",
    "t2\n",
    "print(t2.ndim)\n",
    "print(t2.shape)\n",
    "print(t2.size())\n",
    "print(len(t2))\n",
    "print(len([[1,2],[3,4]]))#返回的是最外面的里面有几个元素\n",
    "print(torch.numel(t2))\n",
    "print(t2.numel())"
   ]
  },
  {
   "cell_type": "code",
   "execution_count": 25,
   "metadata": {},
   "outputs": [
    {
     "name": "stdout",
     "output_type": "stream",
     "text": [
      "tensor([1])\n",
      "t0的维度是:1\n",
      "tensor(1)\n",
      "t的维度是:0\n",
      "t的形状是:torch.Size([])\n",
      "t的元素个数是:1\n"
     ]
    }
   ],
   "source": [
    "#零维张量(标量)\n",
    "#该类型张量只包含一个元素，但又不是单独的一个元素\n",
    "t0 = torch.tensor([1])\n",
    "print(t0)\n",
    "print(f't0的维度是:{t0.ndim}')\n",
    "#零维张量\n",
    "t = torch.tensor(1)\n",
    "print(t)\n",
    "print(f't的维度是:{t.ndim}')\n",
    "print(f't的形状是:{t.shape}')\n",
    "print(f't的元素个数是:{t.numel()}')\n",
    "#1与torch.tensor(1)的区别：后者可以放在GPU上训练"
   ]
  },
  {
   "cell_type": "code",
   "execution_count": 26,
   "metadata": {},
   "outputs": [],
   "source": [
    "#高维向量\n",
    "#一般来说，三维以及以上的向量，最常见的还是三维向量，可以理解为二维数组或者矩阵的集合\n"
   ]
  },
  {
   "cell_type": "code",
   "execution_count": 27,
   "metadata": {},
   "outputs": [
    {
     "name": "stdout",
     "output_type": "stream",
     "text": [
      "[[1 2 3]\n",
      " [4 5 6]]\n",
      "[[1 2 3]\n",
      " [4 5 6]]\n"
     ]
    }
   ],
   "source": [
    "a1 = np.array([[1,2,3],[4,5,6]])\n",
    "print(a1)\n",
    "a2 = np.array([[1,2,3],[4,5,6]])\n",
    "print(a2)"
   ]
  },
  {
   "cell_type": "code",
   "execution_count": 28,
   "metadata": {},
   "outputs": [
    {
     "name": "stdout",
     "output_type": "stream",
     "text": [
      "tensor([[[1, 2, 3],\n",
      "         [4, 5, 6]],\n",
      "\n",
      "        [[1, 2, 3],\n",
      "         [4, 5, 6]]], dtype=torch.int32)\n"
     ]
    },
    {
     "name": "stderr",
     "output_type": "stream",
     "text": [
      "C:\\Users\\86138\\AppData\\Local\\Temp\\ipykernel_18540\\2145693026.py:1: UserWarning: Creating a tensor from a list of numpy.ndarrays is extremely slow. Please consider converting the list to a single numpy.ndarray with numpy.array() before converting to a tensor. (Triggered internally at C:\\actions-runner\\_work\\pytorch\\pytorch\\builder\\windows\\pytorch\\torch\\csrc\\utils\\tensor_new.cpp:248.)\n",
      "  t3 = torch.tensor([a1,a2])\n"
     ]
    }
   ],
   "source": [
    "t3 = torch.tensor([a1,a2])\n",
    "print(t3)\n"
   ]
  },
  {
   "cell_type": "code",
   "execution_count": 29,
   "metadata": {},
   "outputs": [
    {
     "name": "stdout",
     "output_type": "stream",
     "text": [
      "3\n",
      "torch.Size([2, 2, 3])\n",
      "2\n",
      "12\n"
     ]
    }
   ],
   "source": [
    "print(t3.ndim)\n",
    "print(t3.shape)\n",
    "print(len(t3))\n",
    "print(t3.numel())"
   ]
  },
  {
   "cell_type": "markdown",
   "metadata": {},
   "source": [
    "### 2.3.2张量的形变"
   ]
  },
  {
   "cell_type": "code",
   "execution_count": 30,
   "metadata": {},
   "outputs": [],
   "source": [
    "#张量作为数字的结构化集合，其结构也是可以根据实际需求进行灵活调整"
   ]
  },
  {
   "cell_type": "code",
   "execution_count": 31,
   "metadata": {},
   "outputs": [
    {
     "name": "stdout",
     "output_type": "stream",
     "text": [
      "tensor([[1, 2],\n",
      "        [3, 4]])\n"
     ]
    },
    {
     "data": {
      "text/plain": [
       "tensor([1, 2, 3, 4])"
      ]
     },
     "execution_count": 31,
     "metadata": {},
     "output_type": "execute_result"
    }
   ],
   "source": [
    "#flatten拉平，(就是将任意维度都变成一维，零维也变成一维)\n",
    "print(t2)\n",
    "t2.flatten()"
   ]
  },
  {
   "cell_type": "code",
   "execution_count": 32,
   "metadata": {},
   "outputs": [
    {
     "name": "stdout",
     "output_type": "stream",
     "text": [
      "tensor([[[1, 2, 3],\n",
      "         [4, 5, 6]],\n",
      "\n",
      "        [[1, 2, 3],\n",
      "         [4, 5, 6]]], dtype=torch.int32)\n"
     ]
    },
    {
     "data": {
      "text/plain": [
       "tensor([1, 2, 3, 4, 5, 6, 1, 2, 3, 4, 5, 6], dtype=torch.int32)"
      ]
     },
     "execution_count": 32,
     "metadata": {},
     "output_type": "execute_result"
    }
   ],
   "source": [
    "print(t3)\n",
    "t3.flatten()"
   ]
  },
  {
   "cell_type": "code",
   "execution_count": 33,
   "metadata": {},
   "outputs": [
    {
     "name": "stdout",
     "output_type": "stream",
     "text": [
      "tensor(1)\n",
      "tensor([1])\n",
      "1\n"
     ]
    }
   ],
   "source": [
    "#注：如果将零维张量使用flatten,则会将其转化为一维张量\n",
    "print(t)\n",
    "print(t.flatten())\n",
    "print(t.flatten().ndim)"
   ]
  },
  {
   "cell_type": "code",
   "execution_count": 34,
   "metadata": {},
   "outputs": [
    {
     "name": "stdout",
     "output_type": "stream",
     "text": [
      "tensor([1, 2])\n",
      "tensor([[1],\n",
      "        [2]])\n",
      "torch.Size([2, 1])\n"
     ]
    }
   ],
   "source": [
    "#reshape方法：任意变形\n",
    "print(t1)\n",
    "print(t1.reshape(2,1))#reshape转化后的维度有该方法输入的参数个数决定\n",
    "print(t1.reshape(2,1).shape)"
   ]
  },
  {
   "cell_type": "code",
   "execution_count": 35,
   "metadata": {},
   "outputs": [
    {
     "name": "stdout",
     "output_type": "stream",
     "text": [
      "tensor([1, 2])\n"
     ]
    },
    {
     "data": {
      "text/plain": [
       "tensor([1, 2])"
      ]
     },
     "execution_count": 35,
     "metadata": {},
     "output_type": "execute_result"
    }
   ],
   "source": [
    "print(t1.reshape(2))\n",
    "#另一种表达形式：\n",
    "t1.reshape(2, )"
   ]
  },
  {
   "cell_type": "code",
   "execution_count": 36,
   "metadata": {},
   "outputs": [
    {
     "name": "stdout",
     "output_type": "stream",
     "text": [
      "tensor([[1, 2]])\n",
      "tensor([[[1, 2]]])\n",
      "tensor([[[1],\n",
      "         [2]]])\n"
     ]
    }
   ],
   "source": [
    "print(t1.reshape(1,2))\n",
    "\n",
    "print(t1.reshape(1,1,2))#只包含一个矩阵，并且这个矩阵是一行两列的矩阵\n",
    "\n",
    "print(t1.reshape(1,2,1))#只包含一个矩阵，并且这个矩阵是两行一列的矩阵\n"
   ]
  },
  {
   "cell_type": "code",
   "execution_count": 37,
   "metadata": {},
   "outputs": [
    {
     "name": "stdout",
     "output_type": "stream",
     "text": [
      "tensor([[[1, 2, 3],\n",
      "         [4, 5, 6]],\n",
      "\n",
      "        [[1, 2, 3],\n",
      "         [4, 5, 6]]], dtype=torch.int32)\n",
      "12\n",
      "tensor([1, 2, 3, 4, 5, 6, 1, 2, 3, 4, 5, 6], dtype=torch.int32)\n",
      "cpu\n"
     ]
    }
   ],
   "source": [
    "print(t3)\n",
    "print(t3.numel())\n",
    "print(t3.reshape(12))\n",
    "print(t3.device)"
   ]
  },
  {
   "cell_type": "markdown",
   "metadata": {},
   "source": [
    "## 2.3张量的操作\n"
   ]
  },
  {
   "cell_type": "code",
   "execution_count": 38,
   "metadata": {},
   "outputs": [
    {
     "name": "stdout",
     "output_type": "stream",
     "text": [
      "cuda:0\n"
     ]
    }
   ],
   "source": [
    "#将张量移至GPU上训练\n",
    "if torch.cuda.is_available():\n",
    "    t3=t3.to('cuda')\n",
    "print(t3.device)"
   ]
  },
  {
   "cell_type": "code",
   "execution_count": 53,
   "metadata": {},
   "outputs": [
    {
     "name": "stdout",
     "output_type": "stream",
     "text": [
      "tensor([0, 1, 2])\n",
      "tensor([0, 2, 4])\n",
      "torch.int64\n",
      "tensor([0., 1., 2., 3.])\n",
      "torch.float64\n"
     ]
    },
    {
     "name": "stderr",
     "output_type": "stream",
     "text": [
      "C:\\Users\\86138\\AppData\\Local\\Temp\\ipykernel_18540\\3981512778.py:5: UserWarning: torch.range is deprecated and will be removed in a future release because its behavior is inconsistent with Python's range builtin. Instead, use torch.arange, which produces values in [start, end).\n",
      "  print(torch.range(0,3))#range比arange多一个数\n",
      "C:\\Users\\86138\\AppData\\Local\\Temp\\ipykernel_18540\\3981512778.py:6: UserWarning: torch.range is deprecated and will be removed in a future release because its behavior is inconsistent with Python's range builtin. Instead, use torch.arange, which produces values in [start, end).\n",
      "  print(torch.range(0,3).dtype)\n"
     ]
    }
   ],
   "source": [
    "#！！！！arange&range传入的参数不是列表，就是一个一个传入即可\n",
    "print(torch.arange(3))#start默认为0，step默认为1\n",
    "print(torch.arange(0,5,2))\n",
    "print(torch.arange(3).dtype)\n",
    "print(torch.range(0,3))#range比arange多一个数,并且数据类型为浮点型，这里的64是因为之前设置了一个全局的改变数据类型，一般是3位\n",
    "print(torch.range(0,3).dtype)"
   ]
  },
  {
   "cell_type": "code",
   "execution_count": 55,
   "metadata": {},
   "outputs": [
    {
     "name": "stdout",
     "output_type": "stream",
     "text": [
      "tensor(0)\n",
      "tensor(1)\n",
      "tensor(2)\n",
      "tensor(3)\n",
      "tensor(4)\n",
      "tensor(5)\n",
      "tensor(6)\n",
      "tensor(7)\n",
      "tensor(8)\n",
      "tensor(9)\n"
     ]
    }
   ],
   "source": [
    "for i in torch.arange(10):\n",
    "    print(i)"
   ]
  },
  {
   "cell_type": "code",
   "execution_count": 60,
   "metadata": {},
   "outputs": [
    {
     "name": "stdout",
     "output_type": "stream",
     "text": [
      "tensor([ 0.0000,  2.5000,  5.0000,  7.5000, 10.0000])\n",
      "tensor([1.0000e+00, 1.2915e+01, 1.6681e+02, 2.1544e+03, 2.7826e+04, 3.5938e+05,\n",
      "        4.6416e+06, 5.9948e+07, 7.7426e+08, 1.0000e+10])\n"
     ]
    }
   ],
   "source": [
    "#遇到sapce要注意:这里的step不是步长，而是元素的个数\n",
    "print(torch.linspace(0,10,5))#这里的区别是：最后一个step参数是数组的元素个数\n",
    "print(torch.logspace(0,10,10))"
   ]
  },
  {
   "cell_type": "code",
   "execution_count": 69,
   "metadata": {},
   "outputs": [
    {
     "name": "stdout",
     "output_type": "stream",
     "text": [
      "tensor([[1., 0., 0.],\n",
      "        [0., 1., 0.],\n",
      "        [0., 0., 1.]])\n",
      "tensor([[5, 5],\n",
      "        [5, 5]])\n"
     ]
    }
   ],
   "source": [
    "print(torch.eye(3))\n",
    "#full填充\n",
    "print(torch.full([2,2],5))"
   ]
  },
  {
   "cell_type": "code",
   "execution_count": 77,
   "metadata": {},
   "outputs": [
    {
     "name": "stdout",
     "output_type": "stream",
     "text": [
      "tensor([[0.5362, 0.5711, 0.0700, 0.6682, 0.1511],\n",
      "        [0.3174, 0.5047, 0.0592, 0.3372, 0.5666]])\n",
      "torch.float64\n",
      "torch.Size([2, 5])\n"
     ]
    }
   ],
   "source": [
    "#cat连接,传入的参数是张量列表\n",
    "a = torch.rand([2,2])\n",
    "b = torch.rand([2,3])\n",
    "c=torch.cat([a,b],dim=1)#除了被连接的维度之外，其他维度相同\n",
    "print(c)\n",
    "print(c.dtype)\n",
    "print(c.shape)"
   ]
  },
  {
   "cell_type": "code",
   "execution_count": 80,
   "metadata": {},
   "outputs": [
    {
     "name": "stdout",
     "output_type": "stream",
     "text": [
      "tensor([[0.7392],\n",
      "        [0.3179],\n",
      "        [0.1950]])\n",
      "tensor([[0.8608],\n",
      "        [0.9938],\n",
      "        [0.4907]])\n"
     ]
    }
   ],
   "source": [
    "#chunk分割张量\n",
    "c,d = torch.chunk(torch.rand([3,2]),2,dim=1)#dim默认为0\n",
    "print(c)\n",
    "print(d)"
   ]
  },
  {
   "cell_type": "code",
   "execution_count": 93,
   "metadata": {},
   "outputs": [
    {
     "name": "stdout",
     "output_type": "stream",
     "text": [
      "tensor([[0.7938, 0.2450, 0.3411],\n",
      "        [0.9768, 0.0221, 0.2958],\n",
      "        [0.1501, 0.5522, 0.2697]])\n",
      "tensor([[0.9768, 0.2450, 0.2697],\n",
      "        [0.9768, 0.2450, 0.2697],\n",
      "        [0.9768, 0.2450, 0.2697]])\n"
     ]
    }
   ],
   "source": [
    "#？？？gather沿着某一维度去取一些变量,dim的值是几，就从该dim中选取元素进行重组\n",
    "t = torch.rand([3,3])\n",
    "print(t)\n",
    "print(torch.gather(t,0,torch.tensor([[1,0,2],[1,0,2],[1,0,2]])))#out[i][j]=input[index[i][j]][j] 就是改变元素行的索引，列索引不变，那其实就是在每一列中进行变换，即每一列取哪一行的元素作为这个未知的元素"
   ]
  },
  {
   "cell_type": "code",
   "execution_count": null,
   "metadata": {},
   "outputs": [],
   "source": [
    "#scatter_\n",
    "\n",
    "\n",
    "\n"
   ]
  }
 ],
 "metadata": {
  "kernelspec": {
   "display_name": "base",
   "language": "python",
   "name": "python3"
  },
  "language_info": {
   "codemirror_mode": {
    "name": "ipython",
    "version": 3
   },
   "file_extension": ".py",
   "mimetype": "text/x-python",
   "name": "python",
   "nbconvert_exporter": "python",
   "pygments_lexer": "ipython3",
   "version": "3.9.13"
  }
 },
 "nbformat": 4,
 "nbformat_minor": 2
}

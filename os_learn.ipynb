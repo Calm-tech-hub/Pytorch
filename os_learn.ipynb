{
 "cells": [
  {
   "cell_type": "markdown",
   "metadata": {},
   "source": [
    "# OS"
   ]
  },
  {
   "cell_type": "code",
   "execution_count": 27,
   "metadata": {},
   "outputs": [
    {
     "name": "stdout",
     "output_type": "stream",
     "text": [
      "hello\n"
     ]
    }
   ],
   "source": [
    "print('hello')"
   ]
  },
  {
   "cell_type": "code",
   "execution_count": 28,
   "metadata": {},
   "outputs": [],
   "source": [
    "#os模块是Python中整理文件和目录最为常用的模块\n"
   ]
  },
  {
   "cell_type": "markdown",
   "metadata": {},
   "source": [
    "## 一、路径表示"
   ]
  },
  {
   "cell_type": "code",
   "execution_count": 29,
   "metadata": {},
   "outputs": [
    {
     "data": {
      "text/plain": [
       "'D:\\\\test'"
      ]
     },
     "execution_count": 29,
     "metadata": {},
     "output_type": "execute_result"
    }
   ],
   "source": [
    "\"D:/test\"#左斜杠\n",
    "r\"D:\\test\"#r加上右斜杠双右斜杠\n",
    "\"D:\\\\test\"#\n",
    "#以上三种表示完全一致"
   ]
  },
  {
   "cell_type": "markdown",
   "metadata": {},
   "source": [
    "## 二、具体操作"
   ]
  },
  {
   "cell_type": "code",
   "execution_count": 30,
   "metadata": {},
   "outputs": [
    {
     "data": {
      "text/plain": [
       "'c:\\\\Users\\\\86138\\\\Desktop\\\\Pytorch learn'"
      ]
     },
     "execution_count": 30,
     "metadata": {},
     "output_type": "execute_result"
    }
   ],
   "source": [
    "import os\n",
    "#获取当前的工作路径\n",
    "os.getcwd()#get current work directly\n"
   ]
  },
  {
   "cell_type": "code",
   "execution_count": 31,
   "metadata": {},
   "outputs": [
    {
     "data": {
      "text/plain": [
       "['24国赛',\n",
       " 'AiPPT.exe',\n",
       " 'Anaconda Navigator (Anaconda3).lnk',\n",
       " 'Anaconda Prompt (Anaconda3).lnk',\n",
       " 'AxMath.lnk',\n",
       " 'BokehMe.pdf',\n",
       " 'BokenMe论文学习.pptx',\n",
       " 'd2l-zh-pytorch.pdf',\n",
       " 'data',\n",
       " 'DeepL.lnk',\n",
       " 'desktop.ini',\n",
       " 'Dian_24_秋招',\n",
       " 'Dian团队招新宣讲会2024秋.pptx',\n",
       " 'GitHub Desktop.lnk',\n",
       " 'IBM SPSS Statistics 26.lnk',\n",
       " 'Jupyter Notebook (Anaconda3).lnk',\n",
       " 'LetsVPN.lnk',\n",
       " 'Math player.exe',\n",
       " 'Mathpix Snipping Tool.lnk',\n",
       " 'Microsoft Edge.lnk',\n",
       " 'Modelsim SE 10_5',\n",
       " 'ModelSim SE-64 10.5.lnk',\n",
       " 'NI Multisim 14.3.lnk',\n",
       " 'pspice.lnk',\n",
       " 'Python学习',\n",
       " 'Pytorch learn',\n",
       " 'Pytorch learnHua_Wei',\n",
       " 'Spyder (Anaconda3).lnk',\n",
       " 'test.bak',\n",
       " '~$rmat2016.doc',\n",
       " '~$国赛论文.docx',\n",
       " '~WRL3265.tmp',\n",
       " '“定格青春，温暖前行”校园公益活动推文.docx',\n",
       " '“智修电器，爱筑社区”策划案.docx',\n",
       " '三级网络技术超级模拟软件.lnk',\n",
       " '习概课堂汇报.pptx',\n",
       " '亿图图示.lnk',\n",
       " '代码截图.zip',\n",
       " '保研相关问题.docx',\n",
       " '信卓2301班主题团日材料',\n",
       " '全国大学生数学建模竞赛作品上传客户端.lnk',\n",
       " '公众号首图.png',\n",
       " '大学生数学竞赛',\n",
       " '徐楷鸣.pdf',\n",
       " '徐楷鸣象限图.pdf',\n",
       " '志愿部任务',\n",
       " '暑假社会实践材料',\n",
       " '极光PDF.lnk',\n",
       " '极光PDF转换器.lnk',\n",
       " '深度学习',\n",
       " '百度网盘.lnk',\n",
       " '答辩',\n",
       " '联系导师邮件.docx',\n",
       " '计算机三级',\n",
       " '论文复现.docx',\n",
       " '豆包.lnk',\n",
       " '迅雷.lnk',\n",
       " '高光至暗时刻象限图.docx',\n",
       " '高光至暗时刻象限图.pdf']"
      ]
     },
     "execution_count": 31,
     "metadata": {},
     "output_type": "execute_result"
    }
   ],
   "source": [
    "#传入一个路径，返回该路径下所有文件和目录组成的列表\n",
    "path = 'c:\\\\Users\\\\86138\\\\Desktop'#c是小写\n",
    "os.listdir(path)"
   ]
  },
  {
   "cell_type": "code",
   "execution_count": 32,
   "metadata": {},
   "outputs": [
    {
     "name": "stdout",
     "output_type": "stream",
     "text": [
      "c:\\Users\\86138\\Desktop\\Pytorch learn\n",
      "['.idea', '.ipynb_checkpoints', 'Hua']\n",
      "['os_learn.ipynb', 'tensor.ipynb']\n",
      "c:\\Users\\86138\\Desktop\\Pytorch learn\\.idea\n",
      "['inspectionProfiles']\n",
      "['.gitignore', 'misc.xml', 'modules.xml', 'pythonProject1.iml', 'workspace.xml']\n",
      "c:\\Users\\86138\\Desktop\\Pytorch learn\\.idea\\inspectionProfiles\n",
      "[]\n",
      "['profiles_settings.xml']\n",
      "c:\\Users\\86138\\Desktop\\Pytorch learn\\.ipynb_checkpoints\n",
      "[]\n",
      "[]\n",
      "c:\\Users\\86138\\Desktop\\Pytorch learn\\Hua\n",
      "['Calm']\n",
      "[]\n",
      "c:\\Users\\86138\\Desktop\\Pytorch learn\\Hua\\Calm\n",
      "[]\n",
      "[]\n"
     ]
    }
   ],
   "source": [
    "#传入任意一个path路径，深层次遍历指定路径下的文件夹，返回的是一个由路径。文件夹列表，文件列表组成的元组\n",
    "path = 'c:\\\\Users\\\\86138\\\\Desktop\\\\Pytorch learn'\n",
    "for path,dirs,files in os.walk(path):\n",
    "    print(path)#路径\n",
    "    print(dirs)#文件夹列表\n",
    "    print(files)#文件列表\n",
    "\n"
   ]
  },
  {
   "cell_type": "code",
   "execution_count": 33,
   "metadata": {},
   "outputs": [
    {
     "name": "stdout",
     "output_type": "stream",
     "text": [
      "1\n"
     ]
    }
   ],
   "source": [
    "#传入一个path路径，判断指定路径下的目录是否存在\n",
    "path1='c:\\\\Users\\\\86138\\\\Desktop\\\\Pytorch learn'\n",
    "if os.path.exists(path1):\n",
    "    print(1)\n",
    "else:\n",
    "    print(0)"
   ]
  },
  {
   "cell_type": "code",
   "execution_count": 34,
   "metadata": {},
   "outputs": [],
   "source": [
    "#创建文件夹之前，最好使用os.path.exists判断文件夹是否存在\n",
    "os.getcwd()\n",
    "path1 = os.getcwd()+\"\\\\Hua_Wei\"\n",
    "if os.path.exists(path1) == 0:\n",
    "    os.mkdir(path1)#只能创建单层文件夹\n",
    "else:\n",
    "    print(\"exist\")\n",
    "#再次运行会报错，因为已经存在"
   ]
  },
  {
   "cell_type": "code",
   "execution_count": 35,
   "metadata": {},
   "outputs": [],
   "source": [
    "#传入一个path路径，生成一个递归文件夹,即多层文件夹\n",
    "os.getcwd()\n",
    "path2 = os.getcwd()+\"\\\\Hua\\\\Calm\"\n",
    "os.makedirs(path2,exist_ok=True)#exist_ok=True时候，如果存在也不会报错"
   ]
  },
  {
   "cell_type": "code",
   "execution_count": 36,
   "metadata": {},
   "outputs": [],
   "source": [
    "#删除文件夹\n",
    "path1 = os.getcwd()+\"\\\\Hua_Wei\"\n",
    "os.rmdir(path1)\n"
   ]
  },
  {
   "cell_type": "code",
   "execution_count": 37,
   "metadata": {},
   "outputs": [
    {
     "name": "stdout",
     "output_type": "stream",
     "text": [
      "c:\\Users\\86138\\Desktop\\Pytorch learn\\a.jpg\n",
      "c:\\Users\\86138\\Desktop\\Pytorch learn\\b.jpg\n",
      "c:\\Users\\86138\\Desktop\\Pytorch learn\\c.jpg\n"
     ]
    }
   ],
   "source": [
    "#传入；两个path路径，将路径拼接起来，形成一个新的路径\n",
    "path = os.getcwd()\n",
    "lis = ['a.jpg','b.jpg','c.jpg']\n",
    "for i in lis:\n",
    "    x = os.path.join(path,i)\n",
    "    print(x)\n"
   ]
  },
  {
   "cell_type": "code",
   "execution_count": 41,
   "metadata": {},
   "outputs": [
    {
     "name": "stdout",
     "output_type": "stream",
     "text": [
      "c:\\Users\\86138\\Desktop\\Pytorch learn\n",
      "tensor.ipynb\n",
      "('c:\\\\Users\\\\86138\\\\Desktop\\\\Pytorch learn', 'tensor.ipynb')\n"
     ]
    }
   ],
   "source": [
    "#传入一个完整路径，拆分为绝对路径和文件名两个部分，将path分割成目录和文件名并以元组方式返回\n",
    "path = 'c:\\\\Users\\\\86138\\\\Desktop\\\\Pytorch learn\\\\tensor.ipynb'\n",
    "print(os.path.dirname(path))\n",
    "print(os.path.basename(path))\n",
    "print(os.path.split(path))"
   ]
  },
  {
   "cell_type": "code",
   "execution_count": 42,
   "metadata": {},
   "outputs": [
    {
     "name": "stdout",
     "output_type": "stream",
     "text": [
      "4096\n"
     ]
    }
   ],
   "source": [
    "print(os.path.getsize(os.getcwd()))"
   ]
  },
  {
   "cell_type": "code",
   "execution_count": null,
   "metadata": {},
   "outputs": [],
   "source": [
    "'''\n",
    "cv2.imwrite(os.path.join(save_root, 'image.jpg'), image_ori[..., ::-1] * 255)\n",
    "plt.imsave(os.path.join(save_root, 'defocus.jpg'), defocus, cmap='coolwarm', vmin=-max(defocus.max(), -defocus.min()), vmax=max(defocus.max(), -defocus.min()))\n",
    "cv2.imwrite(os.path.join(save_root, 'disparity.jpg'), disp * 255)\n",
    "cv2.imwrite(os.path.join(save_root, 'error_map.jpg'), error_map * 255)\n",
    "cv2.imwrite(os.path.join(save_root, 'bokeh_classical.jpg'), bokeh_classical[..., ::-1] * 255)\n",
    "cv2.imwrite(os.path.join(save_root, 'bokeh_neural.jpg'), bokeh_neural[..., ::-1] * 255)\n",
    "cv2.imwrite(os.path.join(save_root, 'bokeh_pred.jpg'), bokeh_pred[..., ::-1] * 255)\n",
    "'''"
   ]
  }
 ],
 "metadata": {
  "kernelspec": {
   "display_name": "base",
   "language": "python",
   "name": "python3"
  },
  "language_info": {
   "codemirror_mode": {
    "name": "ipython",
    "version": 3
   },
   "file_extension": ".py",
   "mimetype": "text/x-python",
   "name": "python",
   "nbconvert_exporter": "python",
   "pygments_lexer": "ipython3",
   "version": "3.9.13"
  }
 },
 "nbformat": 4,
 "nbformat_minor": 2
}

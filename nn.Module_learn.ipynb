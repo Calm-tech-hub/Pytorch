{
 "cells": [
  {
   "cell_type": "code",
   "execution_count": 4,
   "metadata": {},
   "outputs": [],
   "source": [
    "import torch.nn as nn\n",
    "import torch.nn.functional as F\n",
    "import torch"
   ]
  },
  {
   "cell_type": "code",
   "execution_count": 3,
   "metadata": {},
   "outputs": [],
   "source": [
    "class Model(nn.Module):\n",
    "    def __init__(self):\n",
    "        super().__init__()\n",
    "        self.conv1 = nn.Conv2d(1,20,5)\n",
    "        self.conv2 = nn.Conv2d(20,20,5)\n",
    "\n",
    "    def forward(self,input):\n",
    "        input = F.relu(self.conv1(input))\n",
    "        output = F.relu(self.conv2(input))\n",
    "        return output\n",
    "\n"
   ]
  },
  {
   "cell_type": "code",
   "execution_count": 10,
   "metadata": {},
   "outputs": [
    {
     "name": "stdout",
     "output_type": "stream",
     "text": [
      "tensor([[-1.7614, -0.8722, -0.6294, -0.0659],\n",
      "        [ 0.7449,  0.8517,  0.7210,  0.2002],\n",
      "        [-2.1586, -0.3389,  0.0200,  1.5042]])\n",
      "tensor([[-0.7614,  0.1278,  0.3706,  0.9341],\n",
      "        [ 1.7449,  1.8517,  1.7210,  1.2002],\n",
      "        [-1.1586,  0.6611,  1.0200,  2.5042]])\n"
     ]
    }
   ],
   "source": [
    "class Tudui(nn.Module):\n",
    "    def __init__(self):\n",
    "        super().__init__()\n",
    "        \n",
    "    def forward(self,input):\n",
    "        output = input + 1\n",
    "        return output\n",
    "    \n",
    "tudui = Tudui()\n",
    "input = torch.randn((3,4))\n",
    "print(input)\n",
    "output = tudui(input)\n",
    "print(output)"
   ]
  }
 ],
 "metadata": {
  "kernelspec": {
   "display_name": "base",
   "language": "python",
   "name": "python3"
  },
  "language_info": {
   "codemirror_mode": {
    "name": "ipython",
    "version": 3
   },
   "file_extension": ".py",
   "mimetype": "text/x-python",
   "name": "python",
   "nbconvert_exporter": "python",
   "pygments_lexer": "ipython3",
   "version": "3.9.13"
  }
 },
 "nbformat": 4,
 "nbformat_minor": 2
}
